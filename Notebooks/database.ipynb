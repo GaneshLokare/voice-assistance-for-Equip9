{
 "cells": [
  {
   "cell_type": "markdown",
   "id": "7695a410",
   "metadata": {},
   "source": [
    "# Database creation"
   ]
  },
  {
   "cell_type": "code",
   "execution_count": 2,
   "id": "f4fabe12",
   "metadata": {},
   "outputs": [],
   "source": [
    "# import required libraries\n",
    "import pandas as pd\n",
    "import sqlite3"
   ]
  },
  {
   "cell_type": "code",
   "execution_count": 3,
   "id": "b2310513",
   "metadata": {},
   "outputs": [],
   "source": [
    "# Define the data\n",
    "data1 = {\n",
    "    'equipment_id': [1,2,3,4,5,6,7,8,9,10],\n",
    "    'equipment_name': ['crane']*10,\n",
    "    'location': ['pune']*10,\n",
    "}\n",
    "\n",
    "data2 = {\n",
    "    'equipment_id': [1,2,3,4,5,6,7,8,9,10],\n",
    "    'equipment_name': ['crane']*10,\n",
    "    'location': ['nashik']*10,\n",
    "}\n",
    "\n",
    "data3 = {\n",
    "    'equipment_id': [1,2,3,4,5,6,7,8,9,10],\n",
    "    'equipment_name': ['crane']*10,\n",
    "    'location': ['mumbai']*10,\n",
    "}\n",
    "\n",
    "data4 = {\n",
    "    'equipment_id': [1,2,3,4,5,6,7,8,9,10],\n",
    "    'equipment_name': ['jcb']*10,\n",
    "    'location': ['pune']*10,\n",
    "}\n",
    "\n",
    "data5 = {\n",
    "    'equipment_id': [1,2,3,4,5,6,7,8,9,10],\n",
    "    'equipment_name': ['jcb']*10,\n",
    "    'location': ['nashik']*10,\n",
    "}\n",
    "\n",
    "data6 = {\n",
    "    'equipment_id': [1,2,3,4,5,6,7,8,9,10],\n",
    "    'equipment_name': ['jcb']*10,\n",
    "    'location': ['mumbai']*10,\n",
    "}\n",
    "\n",
    "data7 = {\n",
    "    'equipment_id': [1,2,3,4,5,6,7,8,9,10],\n",
    "    'equipment_name': ['roller']*10,\n",
    "    'location': ['pune']*10,\n",
    "}\n",
    "\n",
    "data8 = {\n",
    "    'equipment_id': [1,2,3,4,5,6,7,8,9,10],\n",
    "    'equipment_name': ['roller']*10,\n",
    "    'location': ['nashik']*10,\n",
    "}\n",
    "\n",
    "data9 = {\n",
    "    'equipment_id': [1,2,3,4,5,6,7,8,9,10],\n",
    "    'equipment_name': ['roller']*10,\n",
    "    'location': ['mumbai']*10,\n",
    "}\n",
    "\n",
    "data10 = {\n",
    "    'equipment_id': [1,2,3,4,5,6,7,8,9,10],\n",
    "    'equipment_name': ['bulldozer']*10,\n",
    "    'location': ['pune']*10,\n",
    "}\n",
    "\n",
    "data11 = {\n",
    "    'equipment_id': [1,2,3,4,5,6,7,8,9,10],\n",
    "    'equipment_name': ['bulldozer']*10,\n",
    "    'location': ['nashik']*10,\n",
    "}\n",
    "\n",
    "data12 = {\n",
    "    'equipment_id': [1,2,3,4,5,6,7,8,9,10],\n",
    "    'equipment_name': ['bulldozer']*10,\n",
    "    'location': ['mumbai']*10,\n",
    "}\n",
    "\n",
    "data13 = {\n",
    "    'equipment_id': [1,2,3,4,5,6,7,8,9,10],\n",
    "    'equipment_name': ['excavator']*10,\n",
    "    'location': ['pune']*10,\n",
    "}\n",
    "\n",
    "data14 = {\n",
    "    'equipment_id': [1,2,3,4,5,6,7,8,9,10],\n",
    "    'equipment_name': ['excavator']*10,\n",
    "    'location': ['nashik']*10,\n",
    "}\n",
    "\n",
    "data15 = {\n",
    "    'equipment_id': [1,2,3,4,5,6,7,8,9,10],\n",
    "    'equipment_name': ['excavator']*10,\n",
    "    'location': ['mumbai']*10,\n",
    "}"
   ]
  },
  {
   "cell_type": "code",
   "execution_count": 4,
   "id": "03ff8b51",
   "metadata": {},
   "outputs": [],
   "source": [
    "# Concatenate the data into a single DataFrame\n",
    "df = pd.concat([pd.DataFrame(data1), pd.DataFrame(data2),pd.DataFrame(data3),pd.DataFrame(data4)\n",
    "               ,pd.DataFrame(data5),pd.DataFrame(data6),pd.DataFrame(data7),pd.DataFrame(data8)\n",
    "               ,pd.DataFrame(data9),pd.DataFrame(data10),pd.DataFrame(data11),pd.DataFrame(data12)\n",
    "               ,pd.DataFrame(data13),pd.DataFrame(data14),pd.DataFrame(data15)])"
   ]
  },
  {
   "cell_type": "code",
   "execution_count": 5,
   "id": "28c051e1",
   "metadata": {},
   "outputs": [
    {
     "data": {
      "text/html": [
       "<div>\n",
       "<style scoped>\n",
       "    .dataframe tbody tr th:only-of-type {\n",
       "        vertical-align: middle;\n",
       "    }\n",
       "\n",
       "    .dataframe tbody tr th {\n",
       "        vertical-align: top;\n",
       "    }\n",
       "\n",
       "    .dataframe thead th {\n",
       "        text-align: right;\n",
       "    }\n",
       "</style>\n",
       "<table border=\"1\" class=\"dataframe\">\n",
       "  <thead>\n",
       "    <tr style=\"text-align: right;\">\n",
       "      <th></th>\n",
       "      <th>equipment_id</th>\n",
       "      <th>equipment_name</th>\n",
       "      <th>location</th>\n",
       "    </tr>\n",
       "  </thead>\n",
       "  <tbody>\n",
       "    <tr>\n",
       "      <th>0</th>\n",
       "      <td>1</td>\n",
       "      <td>crane</td>\n",
       "      <td>pune</td>\n",
       "    </tr>\n",
       "    <tr>\n",
       "      <th>1</th>\n",
       "      <td>2</td>\n",
       "      <td>crane</td>\n",
       "      <td>pune</td>\n",
       "    </tr>\n",
       "    <tr>\n",
       "      <th>2</th>\n",
       "      <td>3</td>\n",
       "      <td>crane</td>\n",
       "      <td>pune</td>\n",
       "    </tr>\n",
       "    <tr>\n",
       "      <th>3</th>\n",
       "      <td>4</td>\n",
       "      <td>crane</td>\n",
       "      <td>pune</td>\n",
       "    </tr>\n",
       "    <tr>\n",
       "      <th>4</th>\n",
       "      <td>5</td>\n",
       "      <td>crane</td>\n",
       "      <td>pune</td>\n",
       "    </tr>\n",
       "  </tbody>\n",
       "</table>\n",
       "</div>"
      ],
      "text/plain": [
       "   equipment_id equipment_name location\n",
       "0             1          crane     pune\n",
       "1             2          crane     pune\n",
       "2             3          crane     pune\n",
       "3             4          crane     pune\n",
       "4             5          crane     pune"
      ]
     },
     "execution_count": 5,
     "metadata": {},
     "output_type": "execute_result"
    }
   ],
   "source": [
    "df.head()"
   ]
  },
  {
   "cell_type": "code",
   "execution_count": 6,
   "id": "87ea717f",
   "metadata": {},
   "outputs": [
    {
     "name": "stdout",
     "output_type": "stream",
     "text": [
      "<class 'pandas.core.frame.DataFrame'>\n",
      "Int64Index: 150 entries, 0 to 9\n",
      "Data columns (total 3 columns):\n",
      " #   Column          Non-Null Count  Dtype \n",
      "---  ------          --------------  ----- \n",
      " 0   equipment_id    150 non-null    int64 \n",
      " 1   equipment_name  150 non-null    object\n",
      " 2   location        150 non-null    object\n",
      "dtypes: int64(1), object(2)\n",
      "memory usage: 4.7+ KB\n"
     ]
    }
   ],
   "source": [
    "df.info()"
   ]
  },
  {
   "cell_type": "code",
   "execution_count": 7,
   "id": "30733fa4",
   "metadata": {},
   "outputs": [],
   "source": [
    "# Define the SQL database connection\n",
    "conn = sqlite3.connect('my_database.db')\n",
    "\n",
    "# Store the DataFrame in a SQL table\n",
    "df.to_sql('my_table', conn, if_exists='replace', index=False)\n",
    "\n",
    "# Close the database connection\n",
    "conn.close()"
   ]
  },
  {
   "cell_type": "code",
   "execution_count": 8,
   "id": "b485ecb5",
   "metadata": {},
   "outputs": [
    {
     "name": "stdout",
     "output_type": "stream",
     "text": [
      "   equipment_id equipment_name location\n",
      "0             1          crane     pune\n",
      "1             2          crane     pune\n",
      "2             3          crane     pune\n",
      "3             4          crane     pune\n",
      "4             5          crane     pune\n"
     ]
    }
   ],
   "source": [
    "# Define the SQL database connection\n",
    "conn = sqlite3.connect('my_database.db')\n",
    "\n",
    "# Execute a SQL query to select all rows from the table\n",
    "query = 'SELECT * FROM my_table where location = \"pune\"'\n",
    "df = pd.read_sql_query(query, conn)\n",
    "\n",
    "# Print the DataFrame\n",
    "print(df.head())\n",
    "\n",
    "# Close the database connection\n",
    "conn.close()"
   ]
  },
  {
   "cell_type": "code",
   "execution_count": null,
   "id": "1d9e4f20",
   "metadata": {},
   "outputs": [],
   "source": []
  },
  {
   "cell_type": "code",
   "execution_count": null,
   "id": "08fbaf8c",
   "metadata": {},
   "outputs": [],
   "source": []
  }
 ],
 "metadata": {
  "kernelspec": {
   "display_name": "Python 3 (ipykernel)",
   "language": "python",
   "name": "python3"
  },
  "language_info": {
   "codemirror_mode": {
    "name": "ipython",
    "version": 3
   },
   "file_extension": ".py",
   "mimetype": "text/x-python",
   "name": "python",
   "nbconvert_exporter": "python",
   "pygments_lexer": "ipython3",
   "version": "3.9.13"
  }
 },
 "nbformat": 4,
 "nbformat_minor": 5
}
