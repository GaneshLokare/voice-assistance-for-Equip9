{
 "cells": [
  {
   "cell_type": "code",
   "execution_count": 27,
   "id": "ff86ff53",
   "metadata": {},
   "outputs": [
    {
     "name": "stdout",
     "output_type": "stream",
     "text": [
      "The tensorboard extension is already loaded. To reload it, use:\n",
      "  %reload_ext tensorboard\n"
     ]
    }
   ],
   "source": [
    "# import required libraries\n",
    "import numpy as np\n",
    "import pandas as pd\n",
    "import librosa\n",
    "import os\n",
    "from sklearn.model_selection import train_test_split\n",
    "from prettytable import PrettyTable\n",
    "from sklearn.utils import shuffle\n",
    "import tensorflow as tf\n",
    "from tensorflow.keras.preprocessing.sequence import pad_sequences\n",
    "from tensorflow.keras.layers import Input, LSTM, Dense\n",
    "from keras.layers import Dropout\n",
    "from tensorflow.keras.models import Model\n",
    "import tensorflow as tf\n",
    "from sklearn.metrics import f1_score\n",
    "%load_ext tensorboard"
   ]
  },
  {
   "cell_type": "code",
   "execution_count": 2,
   "id": "17dc9639",
   "metadata": {},
   "outputs": [],
   "source": [
    "#Creating a dataframe(name=df_audio) with two columns(path, label).   \n",
    "#Eg: 0_jackson_0 --> 0 (label)\n",
    "#0_jackson_43 --> 0 (label)\n",
    "all_files = os.listdir('new')\n",
    "df_audio = pd.DataFrame()\n",
    "df_audio['path'] = ['new/' + ele for ele in all_files]\n",
    "df_audio['target'] = [ele.split(' ')[0] for ele in all_files]"
   ]
  },
  {
   "cell_type": "code",
   "execution_count": 3,
   "id": "25fe03c1",
   "metadata": {},
   "outputs": [
    {
     "name": "stdout",
     "output_type": "stream",
     "text": [
      "<class 'pandas.core.frame.DataFrame'>\n",
      "RangeIndex: 581 entries, 0 to 580\n",
      "Data columns (total 2 columns):\n",
      " #   Column  Non-Null Count  Dtype \n",
      "---  ------  --------------  ----- \n",
      " 0   path    581 non-null    object\n",
      " 1   target  581 non-null    object\n",
      "dtypes: object(2)\n",
      "memory usage: 9.2+ KB\n"
     ]
    }
   ],
   "source": [
    "#info\n",
    "df_audio.info()"
   ]
  },
  {
   "cell_type": "code",
   "execution_count": 4,
   "id": "fe9152b1",
   "metadata": {},
   "outputs": [
    {
     "data": {
      "text/html": [
       "<div>\n",
       "<style scoped>\n",
       "    .dataframe tbody tr th:only-of-type {\n",
       "        vertical-align: middle;\n",
       "    }\n",
       "\n",
       "    .dataframe tbody tr th {\n",
       "        vertical-align: top;\n",
       "    }\n",
       "\n",
       "    .dataframe thead th {\n",
       "        text-align: right;\n",
       "    }\n",
       "</style>\n",
       "<table border=\"1\" class=\"dataframe\">\n",
       "  <thead>\n",
       "    <tr style=\"text-align: right;\">\n",
       "      <th></th>\n",
       "      <th>path</th>\n",
       "      <th>target</th>\n",
       "    </tr>\n",
       "  </thead>\n",
       "  <tbody>\n",
       "    <tr>\n",
       "      <th>0</th>\n",
       "      <td>new/bulldozer Bulldoze zh-cn.mp3</td>\n",
       "      <td>bulldozer</td>\n",
       "    </tr>\n",
       "    <tr>\n",
       "      <th>1</th>\n",
       "      <td>new/bulldozer Bulldoze zh-tw.mp3</td>\n",
       "      <td>bulldozer</td>\n",
       "    </tr>\n",
       "    <tr>\n",
       "      <th>2</th>\n",
       "      <td>new/bulldozer Bulldozer af.mp3</td>\n",
       "      <td>bulldozer</td>\n",
       "    </tr>\n",
       "    <tr>\n",
       "      <th>3</th>\n",
       "      <td>new/bulldozer Bulldozer ar.mp3</td>\n",
       "      <td>bulldozer</td>\n",
       "    </tr>\n",
       "    <tr>\n",
       "      <th>4</th>\n",
       "      <td>new/bulldozer Bulldozer bg.mp3</td>\n",
       "      <td>bulldozer</td>\n",
       "    </tr>\n",
       "  </tbody>\n",
       "</table>\n",
       "</div>"
      ],
      "text/plain": [
       "                               path     target\n",
       "0  new/bulldozer Bulldoze zh-cn.mp3  bulldozer\n",
       "1  new/bulldozer Bulldoze zh-tw.mp3  bulldozer\n",
       "2    new/bulldozer Bulldozer af.mp3  bulldozer\n",
       "3    new/bulldozer Bulldozer ar.mp3  bulldozer\n",
       "4    new/bulldozer Bulldozer bg.mp3  bulldozer"
      ]
     },
     "execution_count": 4,
     "metadata": {},
     "output_type": "execute_result"
    }
   ],
   "source": [
    "# print few rows\n",
    "df_audio.head()"
   ]
  },
  {
   "cell_type": "code",
   "execution_count": 5,
   "id": "3fe9ea47",
   "metadata": {},
   "outputs": [
    {
     "data": {
      "text/plain": [
       "path      581\n",
       "target      5\n",
       "dtype: int64"
      ]
     },
     "execution_count": 5,
     "metadata": {},
     "output_type": "execute_result"
    }
   ],
   "source": [
    "# check uniques\n",
    "df_audio.nunique()"
   ]
  },
  {
   "cell_type": "code",
   "execution_count": 6,
   "id": "d42a6133",
   "metadata": {},
   "outputs": [
    {
     "data": {
      "text/plain": [
       "bulldozer     118\n",
       "excavators    116\n",
       "JCB           116\n",
       "roller        116\n",
       "crane         115\n",
       "Name: target, dtype: int64"
      ]
     },
     "execution_count": 6,
     "metadata": {},
     "output_type": "execute_result"
    }
   ],
   "source": [
    "# check unique values in target column\n",
    "df_audio['target'].value_counts()"
   ]
  },
  {
   "cell_type": "code",
   "execution_count": 7,
   "id": "bc9b9a45",
   "metadata": {},
   "outputs": [],
   "source": [
    "from sklearn.preprocessing import LabelEncoder\n",
    "\n",
    "# Create an instance of LabelEncoder\n",
    "le = LabelEncoder()\n",
    "\n",
    "le.fit(df_audio['target'])\n",
    "\n",
    "# Transform the 'target' column using the fitted LabelEncoder\n",
    "df_audio['label'] = le.transform(df_audio['target'])\n"
   ]
  },
  {
   "cell_type": "code",
   "execution_count": 8,
   "id": "31a076b5",
   "metadata": {},
   "outputs": [
    {
     "data": {
      "text/plain": [
       "1    118\n",
       "3    116\n",
       "0    116\n",
       "4    116\n",
       "2    115\n",
       "Name: label, dtype: int64"
      ]
     },
     "execution_count": 8,
     "metadata": {},
     "output_type": "execute_result"
    }
   ],
   "source": [
    "# encoded values\n",
    "df_audio['label'].value_counts()"
   ]
  },
  {
   "cell_type": "code",
   "execution_count": 9,
   "id": "bb7239c3",
   "metadata": {},
   "outputs": [],
   "source": [
    "#shuffling the dataframe\n",
    "df_audio = shuffle(df_audio, random_state=33)"
   ]
  },
  {
   "cell_type": "markdown",
   "id": "f2e6589e",
   "metadata": {},
   "source": [
    "### Preprocessing\n",
    "\n",
    "All files are in the \"mp3\" format. We will read those raw data files using the librosa library</pre>"
   ]
  },
  {
   "cell_type": "code",
   "execution_count": 10,
   "id": "b413dc1a",
   "metadata": {},
   "outputs": [],
   "source": [
    "sample_rate = 22050\n",
    "def load_wav(x, get_duration=True):\n",
    "    '''This will return the array values of audio with sampling rate of 22050 and Duration'''\n",
    "    #loading the wav file with sampling rate of 22050\n",
    "    samples, sample_rate = librosa.load(x, sr=22050)\n",
    "    if get_duration:\n",
    "        duration = librosa.get_duration(y = samples, sr = sample_rate)\n",
    "        return [samples, duration]\n",
    "    else:\n",
    "        return samples"
   ]
  },
  {
   "cell_type": "code",
   "execution_count": 11,
   "id": "a0db54e3",
   "metadata": {},
   "outputs": [],
   "source": [
    "samples, durations = [],[]\n",
    "\n",
    "\n",
    "for ele in df_audio['path'].values:\n",
    "    try:\n",
    "        sample, duration = load_wav(str(ele))\n",
    "        samples.append(samples)\n",
    "        durations.append(duration)\n",
    "    except:\n",
    "        print(ele)\n",
    "\n",
    "processed = pd.DataFrame({'raw_data' : samples, 'duration' : durations})\n"
   ]
  },
  {
   "cell_type": "code",
   "execution_count": 12,
   "id": "f5b2eae0",
   "metadata": {},
   "outputs": [
    {
     "data": {
      "text/plain": [
       "(581, 2)"
      ]
     },
     "execution_count": 12,
     "metadata": {},
     "output_type": "execute_result"
    }
   ],
   "source": [
    "processed.shape"
   ]
  },
  {
   "cell_type": "markdown",
   "id": "e7204825",
   "metadata": {},
   "source": [
    "### Identifying optimal padding length"
   ]
  },
  {
   "cell_type": "code",
   "execution_count": 13,
   "id": "f1b12e8d",
   "metadata": {},
   "outputs": [
    {
     "data": {
      "image/png": "[encoded data removed]",
      "text/plain": [
       "<Figure size 640x480 with 1 Axes>"
      ]
     },
     "metadata": {},
     "output_type": "display_data"
    }
   ],
   "source": [
    "#plotting the histogram of the duration for trian\n",
    "import matplotlib.pyplot as plt\n",
    "import seaborn as sns\n",
    "\n",
    "plt.hist(processed.duration)\n",
    "plt.xlabel('Duration')\n",
    "plt.title('Histogram of Durations of audios')\n",
    "plt.show()"
   ]
  },
  {
   "cell_type": "code",
   "execution_count": 14,
   "id": "2266d1e5",
   "metadata": {},
   "outputs": [
    {
     "name": "stdout",
     "output_type": "stream",
     "text": [
      "0th percentile is 0.4963265306122449\n",
      "10th percentile is 0.8640362811791383\n",
      "20th percentile is 0.96\n",
      "30th percentile is 1.0320181405895692\n",
      "40th percentile is 1.1280272108843536\n",
      "50th percentile is 1.2\n",
      "60th percentile is 1.2960090702947846\n",
      "70th percentile is 1.3680272108843536\n",
      "80th percentile is 1.4640362811791383\n",
      "90th percentile is 1.56\n",
      "100th percentile is 2.8080272108843536\n"
     ]
    }
   ],
   "source": [
    "#print 0 to 100 percentile values with step size of 10 for train data duration. \n",
    "for i in range(0,11,1):\n",
    "    print(f\"{i*10}th percentile is {np.percentile(processed.duration.values, i*10)}\")"
   ]
  },
  {
   "cell_type": "code",
   "execution_count": 15,
   "id": "0c76eb6a",
   "metadata": {},
   "outputs": [
    {
     "name": "stdout",
     "output_type": "stream",
     "text": [
      "90th percentile is 1.56\n",
      "91th percentile is 1.5840362811791384\n",
      "92th percentile is 1.5840362811791384\n",
      "93th percentile is 1.6080272108843536\n",
      "94th percentile is 1.6560090702947845\n",
      "95th percentile is 1.68\n",
      "96th percentile is 1.7424217687074808\n",
      "97th percentile is 1.8\n",
      "98th percentile is 1.8816145124716548\n",
      "99th percentile is 2.1648072562358287\n",
      "100th percentile is 2.8080272108843536\n"
     ]
    }
   ],
   "source": [
    "##print 90 to 100 percentile values with step size of 1. \n",
    "for i in range(0,11,1):\n",
    "    print(f\"{i+90}th percentile is {np.percentile(processed.duration.values, i+90)}\")"
   ]
  },
  {
   "cell_type": "markdown",
   "id": "3cd0eb3a",
   "metadata": {},
   "source": [
    "<pre>Based on our analysis 99 percentile values are less than 0.8sec so we will limit maximum length of X_train_processed and X_test_processed to 0.8 sec.\n",
    "\n",
    "While loading the audio files, we are using sampling rate of 22050 so one sec will give array of length 22050. so, our maximum length is 2*22050 = 45000\n",
    "\n",
    "Padding with Zero if length of sequence is less than 17640 else truncating the number. \n",
    "\n",
    "Also creating a masking vector for train and test. \n",
    "\n",
    "Masking vector value = 1 if it is real value, 0 if it is pad value. Masking vector data type will be bool.\n",
    "</pre>"
   ]
  },
  {
   "cell_type": "markdown",
   "id": "c860e8d9",
   "metadata": {},
   "source": [
    "## Generate Raw audio waveforms with data augmentation\n",
    "<pre>\n",
    "We have small dataset, thus we will perform augmentation on audios to improve the model performance. \n",
    "There are two types of augmentation:\n",
    "1. time stretching - Time stretching either increases or decreases the length of the file. For time stretching we move the file 30% faster or slower\n",
    "2. pitch shifting - pitch shifting moves the frequencies higher or lower. For pitch shifting we shift up or down one half-step.\n",
    "</pre>"
   ]
  },
  {
   "cell_type": "code",
   "execution_count": 18,
   "id": "3328cebc",
   "metadata": {},
   "outputs": [],
   "source": [
    "## generating augmented data. \n",
    "def generate_augmented_data(file_path):\n",
    "    augmented_data = []\n",
    "    samples = load_wav(file_path,get_duration=False)\n",
    "    for time_value in [0.7, 1, 1.3]:\n",
    "        for pitch_value in [-1, 0, 1]:\n",
    "            time_stretch_data = librosa.effects.time_stretch(samples, rate=time_value)\n",
    "            final_data = librosa.effects.pitch_shift(time_stretch_data, sr=sample_rate, n_steps=pitch_value)\n",
    "            augmented_data.append(final_data)\n",
    "    return augmented_data"
   ]
  },
  {
   "cell_type": "code",
   "execution_count": 19,
   "id": "bc52dd1d",
   "metadata": {},
   "outputs": [],
   "source": [
    "# train test split\n",
    "X_train, X_test, y_train, y_test = train_test_split(df_audio.path, df_audio.label, stratify = df_audio.label, \n",
    "                                                    test_size = 0.2, random_state = 32321)"
   ]
  },
  {
   "cell_type": "code",
   "execution_count": 20,
   "id": "4d67ece3",
   "metadata": {},
   "outputs": [],
   "source": [
    "# generate augmented data\n",
    "train_aug_data = []\n",
    "train_labels = []\n",
    "\n",
    "for path, label in zip(X_train.values, y_train.values):\n",
    "    aug_data = generate_augmented_data(path)\n",
    "    n_augmented = len(aug_data)\n",
    "    train_aug_data.extend(aug_data)\n",
    "    train_labels.extend([str(label)]*n_augmented)\n",
    "\n",
    "X_train_processed = pd.DataFrame({'raw_data' : train_aug_data, 'label' : train_labels})\n",
    "\n",
    "test_data = []\n",
    "for path in X_test.values:\n",
    "    test_data.append(load_wav(path, get_duration = False))\n",
    "\n",
    "X_test_processed = pd.DataFrame({'raw_data' : test_data, 'label' : y_test.values})"
   ]
  },
  {
   "cell_type": "code",
   "execution_count": 21,
   "id": "955b590a",
   "metadata": {},
   "outputs": [
    {
     "name": "stdout",
     "output_type": "stream",
     "text": [
      "<class 'pandas.core.frame.DataFrame'>\n",
      "RangeIndex: 4176 entries, 0 to 4175\n",
      "Data columns (total 2 columns):\n",
      " #   Column    Non-Null Count  Dtype \n",
      "---  ------    --------------  ----- \n",
      " 0   raw_data  4176 non-null   object\n",
      " 1   label     4176 non-null   object\n",
      "dtypes: object(2)\n",
      "memory usage: 65.4+ KB\n"
     ]
    }
   ],
   "source": [
    "# check\n",
    "X_train_processed.info()"
   ]
  },
  {
   "cell_type": "code",
   "execution_count": 22,
   "id": "3e934c6f",
   "metadata": {},
   "outputs": [
    {
     "data": {
      "text/html": [
       "<div>\n",
       "<style scoped>\n",
       "    .dataframe tbody tr th:only-of-type {\n",
       "        vertical-align: middle;\n",
       "    }\n",
       "\n",
       "    .dataframe tbody tr th {\n",
       "        vertical-align: top;\n",
       "    }\n",
       "\n",
       "    .dataframe thead th {\n",
       "        text-align: right;\n",
       "    }\n",
       "</style>\n",
       "<table border=\"1\" class=\"dataframe\">\n",
       "  <thead>\n",
       "    <tr style=\"text-align: right;\">\n",
       "      <th></th>\n",
       "      <th>raw_data</th>\n",
       "      <th>label</th>\n",
       "    </tr>\n",
       "  </thead>\n",
       "  <tbody>\n",
       "    <tr>\n",
       "      <th>0</th>\n",
       "      <td>[4.7327993e-07, 5.1230535e-07, 4.6442165e-07, ...</td>\n",
       "      <td>1</td>\n",
       "    </tr>\n",
       "    <tr>\n",
       "      <th>1</th>\n",
       "      <td>[-2.0015218e-09, -3.8409333e-09, -3.1627836e-0...</td>\n",
       "      <td>1</td>\n",
       "    </tr>\n",
       "    <tr>\n",
       "      <th>2</th>\n",
       "      <td>[1.0629081e-08, 1.0777184e-08, 1.0950133e-08, ...</td>\n",
       "      <td>1</td>\n",
       "    </tr>\n",
       "    <tr>\n",
       "      <th>3</th>\n",
       "      <td>[-2.3022065e-07, -2.5660603e-07, -2.2576822e-0...</td>\n",
       "      <td>1</td>\n",
       "    </tr>\n",
       "    <tr>\n",
       "      <th>4</th>\n",
       "      <td>[-3.4089363e-12, -2.714116e-12, -3.5769e-12, 2...</td>\n",
       "      <td>1</td>\n",
       "    </tr>\n",
       "  </tbody>\n",
       "</table>\n",
       "</div>"
      ],
      "text/plain": [
       "                                            raw_data label\n",
       "0  [4.7327993e-07, 5.1230535e-07, 4.6442165e-07, ...     1\n",
       "1  [-2.0015218e-09, -3.8409333e-09, -3.1627836e-0...     1\n",
       "2  [1.0629081e-08, 1.0777184e-08, 1.0950133e-08, ...     1\n",
       "3  [-2.3022065e-07, -2.5660603e-07, -2.2576822e-0...     1\n",
       "4  [-3.4089363e-12, -2.714116e-12, -3.5769e-12, 2...     1"
      ]
     },
     "execution_count": 22,
     "metadata": {},
     "output_type": "execute_result"
    }
   ],
   "source": [
    "# print few rows\n",
    "X_train_processed.head()"
   ]
  },
  {
   "cell_type": "code",
   "execution_count": 23,
   "id": "c49d300c",
   "metadata": {},
   "outputs": [],
   "source": [
    "#padding the sequences\n",
    "X_train_pad_seq = pad_sequences(X_train_processed.raw_data, maxlen = 45000,\n",
    "                                dtype = 'float32', padding = 'post', \n",
    "                                truncating = 'post')\n",
    "X_test_pad_seq = pad_sequences(X_test_processed.raw_data, maxlen = 45000, \n",
    "                               dtype = 'float32', padding = 'post', \n",
    "                               truncating = 'post')\n",
    "\n",
    "y_train = X_train_processed.label.values.astype('int')\n",
    "y_test = X_test_processed.label.values.astype('int')\n",
    "\n",
    "X_train_mask = X_train_pad_seq != 0\n",
    "X_test_mask = X_test_pad_seq != 0"
   ]
  },
  {
   "cell_type": "markdown",
   "id": "4f5168b1",
   "metadata": {},
   "source": [
    "## Using Spectrogram data with data augmentation\n",
    "<pre>\n",
    "We can use librosa to convert raw data into spectrogram. A spectrogram is a visual way of representing the signal strength, or “loudness”, of a signal over time at various frequencies present in a particular waveform. \n",
    "</pre>"
   ]
  },
  {
   "cell_type": "code",
   "execution_count": 24,
   "id": "84f8bd2d",
   "metadata": {},
   "outputs": [],
   "source": [
    "def convert_to_spectrogram(raw_data):\n",
    "    '''converting to spectrogram'''\n",
    "    spectrum = librosa.feature.melspectrogram(y=raw_data, sr=sample_rate, n_mels=64)\n",
    "    logmel_spectrum = librosa.power_to_db(S=spectrum, ref=np.max)\n",
    "    return logmel_spectrum"
   ]
  },
  {
   "cell_type": "code",
   "execution_count": 25,
   "id": "b2f9c187",
   "metadata": {},
   "outputs": [],
   "source": [
    "##use convert_to_spectrogram and convert every raw sequence in X_train_pad_seq and X_test_pad_seq.\n",
    "## save those all in the X_train_spectrogram and X_test_spectrogram ( These two arrays must be numpy arrays)\n",
    "X_train_spectrogram = []\n",
    "for ele in X_train_pad_seq:\n",
    "    logmel = convert_to_spectrogram(ele)\n",
    "    X_train_spectrogram.append(logmel)\n",
    "X_train_spectrogram = np.array(X_train_spectrogram)\n",
    "\n",
    "X_test_spectrogram = []\n",
    "for ele in X_test_pad_seq:\n",
    "    logmel = convert_to_spectrogram(ele)\n",
    "    X_test_spectrogram.append(logmel)\n",
    "X_test_spectrogram = np.array(X_test_spectrogram)"
   ]
  },
  {
   "cell_type": "markdown",
   "id": "db3ae34a",
   "metadata": {},
   "source": [
    "## Model definition and training"
   ]
  },
  {
   "cell_type": "markdown",
   "id": "a873bda0",
   "metadata": {},
   "source": [
    "### Custom Callbacks"
   ]
  },
  {
   "cell_type": "code",
   "execution_count": null,
   "id": "e61490d9",
   "metadata": {},
   "outputs": [],
   "source": [
    "class F1ScoreCB(tf.keras.callbacks.Callback):\n",
    "    def __init__(self, train_data, test_data):\n",
    "        super().__init__()\n",
    "        self.train_data = train_data\n",
    "        self.test_data = test_data\n",
    "        self.history = {}\n",
    "        self.history['val_f1_score'] = []\n",
    "  \n",
    "    def on_epoch_end(self, epochs, logs = {}):\n",
    "        train_preds = np.argmax(self.model.predict(self.train_data[0]), axis = -1)\n",
    "        train_f1_score = f1_score(self.train_data[1], train_preds, average='micro')\n",
    "        train_f1_score = np.round(train_f1_score, 4)\n",
    "\n",
    "        test_preds = np.argmax(self.model.predict(self.test_data[0]), axis = -1)\n",
    "        test_f1_score = f1_score(self.test_data[1], test_preds, average='micro')\n",
    "        test_f1_score = np.round(test_f1_score, 4)\n",
    "        self.history['val_f1_score'].append(test_f1_score)\n",
    "\n",
    "        print(f\" - f1_score: {train_f1_score} - val_f1_score: {test_f1_score}\")\n",
    "\n",
    "        writer1 = tf.summary.create_file_writer(logdir + '/train_f1_score')\n",
    "        writer2 = tf.summary.create_file_writer(logdir + '/validation_f1_score')\n",
    "        \n",
    "        #writing to tensoboard\n",
    "        with writer1.as_default():\n",
    "            tf.summary.scalar('F1_Score', train_f1_score, step=epochs)\n",
    "        writer1.flush()\n",
    "\n",
    "        with writer2.as_default():\n",
    "            tf.summary.scalar('F1_Score', test_f1_score, step=epochs)\n",
    "        writer2.flush()"
   ]
  },
  {
   "cell_type": "code",
   "execution_count": 31,
   "id": "c0475bc1",
   "metadata": {},
   "outputs": [
    {
     "name": "stdout",
     "output_type": "stream",
     "text": [
      "Model: \"model\"\n",
      "_________________________________________________________________\n",
      " Layer (type)                Output Shape              Param #   \n",
      "=================================================================\n",
      " input_1 (InputLayer)        [(None, 64, 88)]          0         \n",
      "                                                                 \n",
      " lstm (LSTM)                 (None, 64, 512)           1230848   \n",
      "                                                                 \n",
      " dropout (Dropout)           (None, 64, 512)           0         \n",
      "                                                                 \n",
      " lstm_1 (LSTM)               (None, 64, 256)           787456    \n",
      "                                                                 \n",
      " dropout_1 (Dropout)         (None, 64, 256)           0         \n",
      "                                                                 \n",
      " tf.math.reduce_mean (TFOpLa  (None, 64)               0         \n",
      " mbda)                                                           \n",
      "                                                                 \n",
      " dense (Dense)               (None, 512)               33280     \n",
      "                                                                 \n",
      " dropout_2 (Dropout)         (None, 512)               0         \n",
      "                                                                 \n",
      " dense_1 (Dense)             (None, 6)                 3078      \n",
      "                                                                 \n",
      "=================================================================\n",
      "Total params: 2,054,662\n",
      "Trainable params: 2,054,662\n",
      "Non-trainable params: 0\n",
      "_________________________________________________________________\n"
     ]
    }
   ],
   "source": [
    "# define model architecture\n",
    "tf.keras.backend.clear_session()\n",
    "inp = Input(shape=(64, 88,))\n",
    "x = LSTM(512, return_sequences=True)(inp)\n",
    "x = Dropout(0.2)(x)\n",
    "x = LSTM(256, return_sequences=True)(x)\n",
    "x = Dropout(0.2)(x)\n",
    "x = tf.math.reduce_mean(x, axis=-1)\n",
    "x = Dense(512, activation='relu', kernel_initializer='he_normal')(x)\n",
    "x = Dropout(0.2)(x)\n",
    "out = Dense(6, activation='softmax', kernel_initializer='glorot_normal')(x)\n",
    "\n",
    "model = Model(inputs=inp, outputs=out)\n",
    "model.summary()"
   ]
  },
  {
   "cell_type": "code",
   "execution_count": 29,
   "id": "14fd6655",
   "metadata": {},
   "outputs": [
    {
     "name": "stderr",
     "output_type": "stream",
     "text": [
      "'rm' is not recognized as an internal or external command,\n",
      "operable program or batch file.\n"
     ]
    },
    {
     "data": {
      "text/plain": [
       "ERROR: Could not find `tensorboard`. Please ensure that your PATH\n",
       "contains an executable `tensorboard` program, or explicitly specify\n",
       "the path to a TensorBoard binary by setting the `TENSORBOARD_BINARY`\n",
       "environment variable."
      ]
     },
     "metadata": {},
     "output_type": "display_data"
    }
   ],
   "source": [
    "#log training\n",
    "!rm -rf ./logs/\n",
    "import datetime\n",
    "\n",
    "logdir = os.path.join('logs', datetime.datetime.now().strftime('%Y%m%d-%H%M%S'))\n",
    "\n",
    "%tensorboard --logdir $logdir"
   ]
  },
  {
   "cell_type": "code",
   "execution_count": 32,
   "id": "044e69ef",
   "metadata": {},
   "outputs": [
    {
     "name": "stdout",
     "output_type": "stream",
     "text": [
      "Epoch 1/15\n",
      "131/131 [==============================] - 145s 1s/step\n",
      "4/4 [==============================] - 4s 1s/step\n",
      " - f1_score: 0.7004 - val_f1_score: 0.735\n",
      "66/66 [==============================] - 501s 7s/step - loss: 1.2602 - val_loss: 0.8268\n",
      "Epoch 2/15\n",
      "131/131 [==============================] - 146s 1s/step\n",
      "4/4 [==============================] - 4s 679ms/step\n",
      " - f1_score: 0.8448 - val_f1_score: 0.8291\n",
      "66/66 [==============================] - 471s 7s/step - loss: 0.7106 - val_loss: 0.5219\n",
      "Epoch 3/15\n",
      "131/131 [==============================] - 153s 1s/step\n",
      "4/4 [==============================] - 4s 680ms/step\n",
      " - f1_score: 0.8429 - val_f1_score: 0.8034\n",
      "66/66 [==============================] - 476s 7s/step - loss: 0.5157 - val_loss: 0.4904\n",
      "Epoch 4/15\n",
      "131/131 [==============================] - 155s 1s/step\n",
      "4/4 [==============================] - 4s 786ms/step\n",
      " - f1_score: 0.8269 - val_f1_score: 0.812\n",
      "66/66 [==============================] - 481s 7s/step - loss: 0.4675 - val_loss: 0.6056\n",
      "Epoch 5/15\n",
      "131/131 [==============================] - 154s 1s/step\n",
      "4/4 [==============================] - 4s 1s/step\n",
      " - f1_score: 0.8805 - val_f1_score: 0.906\n",
      "66/66 [==============================] - 485s 7s/step - loss: 0.4902 - val_loss: 0.3617\n",
      "Epoch 6/15\n",
      "131/131 [==============================] - 166s 1s/step\n",
      "4/4 [==============================] - 5s 1s/step\n",
      " - f1_score: 0.8767 - val_f1_score: 0.8632\n",
      "66/66 [==============================] - 530s 8s/step - loss: 0.3919 - val_loss: 0.3933\n",
      "Epoch 7/15\n",
      "131/131 [==============================] - 170s 1s/step\n",
      "4/4 [==============================] - 4s 922ms/step\n",
      " - f1_score: 0.8918 - val_f1_score: 0.8974\n",
      "66/66 [==============================] - 526s 8s/step - loss: 0.4236 - val_loss: 0.3234\n",
      "Epoch 8/15\n",
      "131/131 [==============================] - 166s 1s/step\n",
      "4/4 [==============================] - 5s 1s/step\n",
      " - f1_score: 0.8762 - val_f1_score: 0.8718\n",
      "66/66 [==============================] - 527s 8s/step - loss: 0.3368 - val_loss: 0.3497\n",
      "Epoch 9/15\n",
      "131/131 [==============================] - 167s 1s/step\n",
      "4/4 [==============================] - 5s 1s/step\n",
      " - f1_score: 0.8827 - val_f1_score: 0.8974\n",
      "66/66 [==============================] - 529s 8s/step - loss: 0.3744 - val_loss: 0.2923\n",
      "Epoch 10/15\n",
      "131/131 [==============================] - 168s 1s/step\n",
      "4/4 [==============================] - 5s 1s/step\n",
      " - f1_score: 0.9306 - val_f1_score: 0.9145\n",
      "66/66 [==============================] - 530s 8s/step - loss: 0.3188 - val_loss: 0.2144\n",
      "Epoch 11/15\n",
      "131/131 [==============================] - 168s 1s/step\n",
      "4/4 [==============================] - 5s 1s/step\n",
      " - f1_score: 0.9179 - val_f1_score: 0.9316\n",
      "66/66 [==============================] - 535s 8s/step - loss: 0.3012 - val_loss: 0.2126\n",
      "Epoch 12/15\n",
      "131/131 [==============================] - 169s 1s/step\n",
      "4/4 [==============================] - 5s 978ms/step\n",
      " - f1_score: 0.9392 - val_f1_score: 0.9487\n",
      "66/66 [==============================] - 536s 8s/step - loss: 0.2704 - val_loss: 0.2108\n",
      "Epoch 13/15\n",
      "131/131 [==============================] - 172s 1s/step\n",
      "4/4 [==============================] - 5s 1s/step\n",
      " - f1_score: 0.9193 - val_f1_score: 0.9231\n",
      "66/66 [==============================] - 540s 8s/step - loss: 0.2688 - val_loss: 0.2534\n",
      "Epoch 14/15\n",
      "131/131 [==============================] - 170s 1s/step\n",
      "4/4 [==============================] - 5s 1s/step\n",
      " - f1_score: 0.9181 - val_f1_score: 0.8974\n",
      "66/66 [==============================] - 542s 8s/step - loss: 0.2591 - val_loss: 0.2716\n"
     ]
    },
    {
     "data": {
      "text/plain": [
       "<keras.callbacks.History at 0x17051f788e0>"
      ]
     },
     "execution_count": 32,
     "metadata": {},
     "output_type": "execute_result"
    }
   ],
   "source": [
    "# compile and train model\n",
    "model.compile(optimizer = tf.keras.optimizers.Adam(0.0005), loss = 'sparse_categorical_crossentropy')\n",
    "cb = [tf.keras.callbacks.TensorBoard(logdir, histogram_freq = 1, write_graph = True),\n",
    "      F1ScoreCB((X_train_spectrogram, y_train), (X_test_spectrogram, y_test)),\n",
    "      tf.keras.callbacks.EarlyStopping(monitor = 'val_loss', min_delta = 0.005, patience = 4)]\n",
    "\n",
    "model.fit(X_train_spectrogram, y_train, validation_data = (X_test_spectrogram, y_test),\n",
    "           batch_size = 64, epochs = 15, callbacks = cb)"
   ]
  },
  {
   "cell_type": "code",
   "execution_count": 33,
   "id": "41401f06",
   "metadata": {},
   "outputs": [],
   "source": [
    "# Save the trained model to a file\n",
    "model.save('model.h5')"
   ]
  }
 ],
 "metadata": {
  "kernelspec": {
   "display_name": "Python 3 (ipykernel)",
   "language": "python",
   "name": "python3"
  },
  "language_info": {
   "codemirror_mode": {
    "name": "ipython",
    "version": 3
   },
   "file_extension": ".py",
   "mimetype": "text/x-python",
   "name": "python",
   "nbconvert_exporter": "python",
   "pygments_lexer": "ipython3",
   "version": "3.9.13"
  }
 },
 "nbformat": 4,
 "nbformat_minor": 5
}
